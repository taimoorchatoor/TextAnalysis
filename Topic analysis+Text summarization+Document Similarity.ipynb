{
 "cells": [
  {
   "cell_type": "code",
   "execution_count": 1,
   "metadata": {},
   "outputs": [],
   "source": [
    "import warnings\n",
    "warnings.filterwarnings('ignore')"
   ]
  },
  {
   "cell_type": "code",
   "execution_count": 2,
   "metadata": {},
   "outputs": [],
   "source": [
    "import nltk\n",
    "from nltk.corpus import PlaintextCorpusReader\n",
    "community_root = \"data/community\"\n",
    "le_monde_root = \"data/le_monde\"\n",
    "community_files = \"community.*\"\n",
    "le_monde_files = \"le_monde.*\"\n",
    "shakeshack_root = \"data/shakeshack\"\n",
    "shakeshack_files = \"shakeshack.*\"\n",
    "fiveguys_root = \"data/fiveguys\"\n",
    "fiveguys_files = \"fiveguys.*\"\n",
    "community_data = PlaintextCorpusReader(community_root,community_files)\n",
    "le_monde_data = PlaintextCorpusReader(le_monde_root,le_monde_files)\n",
    "shakeshack_data = PlaintextCorpusReader(shakeshack_root,shakeshack_files)\n",
    "fiveguys_data = PlaintextCorpusReader(fiveguys_root,fiveguys_files)\n",
    "restaurant_data = [('community',community_data.raw()),('le monde',le_monde_data.raw())\n",
    "                  ,('shakeshack',shakeshack_data.raw()), ('fiveguys',fiveguys_data.raw())]"
   ]
  },
  {
   "cell_type": "code",
   "execution_count": 3,
   "metadata": {},
   "outputs": [
    {
     "name": "stdout",
     "output_type": "stream",
     "text": [
      "*** Introductory Examples for the NLTK Book ***\n",
      "Loading text1, ..., text9 and sent1, ..., sent9\n",
      "Type the name of the text or sentence to view it.\n",
      "Type: 'texts()' or 'sents()' to list the materials.\n",
      "text1: Moby Dick by Herman Melville 1851\n",
      "text2: Sense and Sensibility by Jane Austen 1811\n",
      "text3: The Book of Genesis\n",
      "text4: Inaugural Address Corpus\n",
      "text5: Chat Corpus\n",
      "text6: Monty Python and the Holy Grail\n",
      "text7: Wall Street Journal\n",
      "text8: Personals Corpus\n",
      "text9: The Man Who Was Thursday by G . K . Chesterton 1908\n"
     ]
    }
   ],
   "source": [
    "from nltk.book import *"
   ]
  },
  {
   "cell_type": "code",
   "execution_count": 5,
   "metadata": {},
   "outputs": [],
   "source": [
    "import nltk\n",
    "from nltk.corpus import PlaintextCorpusReader\n",
    "from nltk import sent_tokenize,word_tokenize \n",
    "from nltk.book import *\n",
    "import gensim.summarization"
   ]
  },
  {
   "cell_type": "code",
   "execution_count": 7,
   "metadata": {},
   "outputs": [],
   "source": [
    "import nltk\n",
    "from nltk.corpus import PlaintextCorpusReader\n",
    "community_root = \"data/community\"\n",
    "le_monde_root = \"data/le_monde\"\n",
    "community_files = \"community.*\"\n",
    "le_monde_files = \"le_monde.*\"\n",
    "shakeshack_root = \"data/shakeshack\"\n",
    "shakeshack_files = \"shakeshack.*\"\n",
    "fiveguys_root = \"data/fiveguys\"\n",
    "fiveguys_files = \"fiveguys.*\"\n",
    "community_data = PlaintextCorpusReader(community_root,community_files)\n",
    "le_monde_data = PlaintextCorpusReader(le_monde_root,le_monde_files)\n",
    "shakeshack_data = PlaintextCorpusReader(shakeshack_root,shakeshack_files)\n",
    "fiveguys_data = PlaintextCorpusReader(fiveguys_root,fiveguys_files)"
   ]
  },
  {
   "cell_type": "code",
   "execution_count": 8,
   "metadata": {},
   "outputs": [
    {
     "data": {
      "text/plain": [
       "nltk.corpus.reader.plaintext.PlaintextCorpusReader"
      ]
     },
     "execution_count": 8,
     "metadata": {},
     "output_type": "execute_result"
    }
   ],
   "source": [
    "type(community_data)"
   ]
  },
  {
   "cell_type": "code",
   "execution_count": 9,
   "metadata": {},
   "outputs": [],
   "source": [
    "text = community_data.raw()\n",
    "summary_sentences = []\n",
    "\n",
    "striptext = text.replace('\\n\\n', ' ')\n",
    "striptext = striptext.replace('\\n', ' ')"
   ]
  },
  {
   "cell_type": "code",
   "execution_count": 10,
   "metadata": {},
   "outputs": [
    {
     "name": "stdout",
     "output_type": "stream",
     "text": [
      "We each ordered blueberry pancakes and a cup of coffee--no fresh fruit, no juice, no bacon.\n",
      "I started with a raspberry iced tea & ordered the community custom egg white omelette with sautéed spinach & mushrooms and a side of smoked salmon.\n",
      "I've come here several times with a friend for brunch and once for dinner -- we've both really enjoyed a lot of the breakfast foods available; my favorite is the brioche French toast with blackberry and lemon curd & she loves heir waffles.\n",
      "This place is really good for breakfast and has great pancakes, sausages, eggs.\n"
     ]
    }
   ],
   "source": [
    "summary = gensim.summarization.summarize(striptext, word_count=100) \n",
    "print(summary)"
   ]
  },
  {
   "cell_type": "code",
   "execution_count": 11,
   "metadata": {},
   "outputs": [
    {
     "name": "stdout",
     "output_type": "stream",
     "text": [
      "Chief Justice Roberts, President Carter, President Clinton, President Bush, President Obama, fellow Americans, and people of the world, thank you.\n",
      "We the citizens of America are now joined in a great national effort to rebuild our country and restore its promise for all of our people.\n",
      "Americans want great schools for their children, safe neighborhoods for their families, and good jobs for themselves.\n",
      "At the bedrock of our politics will be a total allegiance to the United States of America, and through our loyalty to our country, we will rediscover our loyalty to each other.\n",
      "In America, we understand that a nation is only living as long as it is striving.\n"
     ]
    }
   ],
   "source": [
    "text = inaugural.raw('2017-Trump.txt')\n",
    "summary_sentences = []\n",
    "candidate_sentences = {}\n",
    "candidate_sentence_counts = {}\n",
    "striptext = text.replace('\\n\\n', ' ')\n",
    "striptext = striptext.replace('\\n', ' ')\n",
    "summary = gensim.summarization.summarize(striptext, word_count=100) \n",
    "print(summary)\n",
    "#print(gensim.summarization.keywords(striptext,words=10))"
   ]
  },
  {
   "cell_type": "code",
   "execution_count": 12,
   "metadata": {},
   "outputs": [
    {
     "name": "stdout",
     "output_type": "stream",
     "text": [
      "36\n"
     ]
    }
   ],
   "source": [
    "import requests\n",
    "from bs4 import BeautifulSoup\n",
    "url=\"https://www.slate.com\"\n",
    "page = requests.get(url)\n",
    "bs_page = BeautifulSoup(page.content,'lxml')\n",
    "all_links = bs_page.find_all('a')\n",
    "categories = ['news_and_politics','news-and-politics']\n",
    "followable_links = list()\n",
    "for link in all_links:\n",
    "    href = link.get('href')\n",
    "    if href:\n",
    "        for cat in categories:\n",
    "            if cat in href:\n",
    "                followable_links.append(href)\n",
    "print(len(followable_links))"
   ]
  },
  {
   "cell_type": "code",
   "execution_count": 13,
   "metadata": {},
   "outputs": [
    {
     "data": {
      "text/plain": [
       "['https://slate.com/news-and-politics/2019/01/trump-says-he-may-declare-a-national-emergency-in-next-few-days-over-wall.html',\n",
       " 'https://slate.com/news-and-politics/2019/01/paul-whelan-russia-espionage.html',\n",
       " '/news-and-politics',\n",
       " 'https://slate.com/news-and-politics/2019/01/trump-says-he-may-declare-a-national-emergency-in-next-few-days-over-wall.html',\n",
       " 'https://slate.com/news-and-politics/2019/01/paul-whelan-russia-espionage.html',\n",
       " '/news-and-politics',\n",
       " 'https://slate.com/news-and-politics/2019/01/end-government-shutdown-trump-wall-deal.html',\n",
       " 'https://slate.com/news-and-politics/2019/01/government-shutdown-border-wall-republicans-congress-trump.html',\n",
       " 'https://slate.com/news-and-politics/2019/01/what-next-slate-daily-news-podcast-introduction.html',\n",
       " 'https://slate.com/news-and-politics/2019/01/sotomayor-gorsuch-supreme-court-dissent-criminal-restitution.html',\n",
       " 'https://slate.com/news-and-politics/2019/01/cyntoia-brown-clemency-tennessee-haslam.html',\n",
       " 'https://slate.com/news-and-politics/2019/01/joe-biden-white-working-class-voters-record-mixed.html',\n",
       " 'https://slate.com/news-and-politics/2019/01/trump-syria-confusion-bolton.html',\n",
       " 'https://slate.com/news-and-politics/2019/01/trump-will-address-the-nation-tuesday-to-gin-up-a-border-crisis-and-every-tv-network-agrees-to-help-by-carrying-it-live.html?via=recirc_recent',\n",
       " 'https://slate.com/news-and-politics/2019/01/the-women-in-the-democratic-partys-field-of-2020-candidates-have-likability-takes.html?via=recirc_recent',\n",
       " 'https://slate.com/news-and-politics/2019/01/government-shutdown-closed-smithsonian-museums-tourists.html?via=recirc_recent',\n",
       " 'https://slate.com/news-and-politics/2019/01/colorado-masterpiece-cakeshop-gay-wedding-cake.html?via=recirc_recent',\n",
       " 'https://slate.com/news-and-politics/2019/01/government-shutdown-border-wall-republicans-congress-trump.html?via=recirc_recent',\n",
       " 'https://slate.com/news-and-politics/2019/01/trump-once-again-tried-to-push-the-idea-that-the-wall-once-had-bipartisan-support-by-quoting-both-barack-obama-and-hillary-clinton-on-sunday.html',\n",
       " 'https://slate.com/news-and-politics/2019/01/end-government-shutdown-trump-wall-deal.html',\n",
       " 'https://slate.com/news-and-politics',\n",
       " '/news-and-politics/politics',\n",
       " '/news-and-politics/jurisprudence',\n",
       " '/news-and-politics/war-stories',\n",
       " '/news-and-politics/the-good-fight',\n",
       " '/news-and-politics/the-slatest',\n",
       " 'https://slate.com/news-and-politics',\n",
       " 'https://slate.com/news-and-politics/2019/01/elizabeth-warren-2020-antitrust-monopoly-crusader.html',\n",
       " 'https://slate.com/news-and-politics/2019/01/trump-will-address-the-nation-tuesday-to-gin-up-a-border-crisis-and-every-tv-network-agrees-to-help-by-carrying-it-live.html',\n",
       " 'https://slate.com/news-and-politics/2019/01/the-women-in-the-democratic-partys-field-of-2020-candidates-have-likability-takes.html',\n",
       " 'https://slate.com/news-and-politics/2019/01/government-shutdown-closed-smithsonian-museums-tourists.html',\n",
       " 'https://slate.com/news-and-politics/2019/01/colorado-masterpiece-cakeshop-gay-wedding-cake.html',\n",
       " 'https://slate.com/news-and-politics/2019/01/government-shutdown-border-wall-republicans-congress-trump.html',\n",
       " 'https://slate.com/news-and-politics/2019/01/end-government-shutdown-trump-wall-deal.html',\n",
       " '/news-and-politics/corrections',\n",
       " 'http://www.slate.com/articles/news_and_politics/slate_fare/2017/04/how_to_disable_your_ad_blocker_on_slate.html?via=ab_pane']"
      ]
     },
     "execution_count": 13,
     "metadata": {},
     "output_type": "execute_result"
    }
   ],
   "source": [
    "followable_links"
   ]
  },
  {
   "cell_type": "code",
   "execution_count": 14,
   "metadata": {},
   "outputs": [
    {
     "name": "stdout",
     "output_type": "stream",
     "text": [
      "26\n"
     ]
    }
   ],
   "source": [
    "story_list = list()\n",
    "count=0\n",
    "for link in followable_links:\n",
    "    try:\n",
    "        page=BeautifulSoup(requests.get(link).content,'lxml')\n",
    "        text=page.find('body').find('section',class_='article__body').get_text().strip()\n",
    "        story_list.append(text)\n",
    "        count+=1\n",
    "    except:\n",
    "        continue\n",
    "print(count)       \n",
    "        "
   ]
  },
  {
   "cell_type": "code",
   "execution_count": 15,
   "metadata": {},
   "outputs": [],
   "source": [
    "from gensim import corpora\n",
    "from gensim.models.ldamodel import LdaModel\n",
    "from gensim.parsing.preprocessing import STOPWORDS\n",
    "import pprint"
   ]
  },
  {
   "cell_type": "code",
   "execution_count": 17,
   "metadata": {},
   "outputs": [
    {
     "data": {
      "text/plain": [
       "'President Donald Trump speaks to the media before departing the White House for Camp David on January 6, 2019 in Washington, D.C.Pool/Getty Images                Popular in                                  News & Politics                                    Looks Like Trump Lied When He Said Former Presidents Supported Wall                                      Democrats Won’t Give Trump a Wall.. But They Could End the Shutdown by Giving Him This.. Trump’s Wall Reportedly a Gimmick Campaign Aides Came Up With So He’d Remember to Talk Immigration                                      The Story of the American Arrested for Espionage in Russia Keeps Getting Stranger                            President Donald Trump made clear Sunday that he is still considering the possibility of declaring a national emergency in order to obtain the funds to build a wall along the border with Mexico.. “I may declare a national emergency dependent on what’s going to happen over the next few days,” Trump told reporters as he was getting ready to travel to Camp David on Sunday.. NEW: Pres.. Trump speaks to possibility of declaring a national emergency ahead of meetings with senior White House staff at Camp David: \"I may declare a national emergency dependent on what\\'s going to happen on the next few days.\". https://t.co/n7cpFSlMwt pic.twitter.com/0hRQco62jA— ABC News (@ABC) January 6, 2019          The words amount to a reiteration of something Trump raised Friday at a news conference.. When he acknowledged he was considering declaring a national emergency.. “Absolutely, we could call a national emergency because of the security of our county,” the president told reporters at a Rose Garden news conference.. “I haven’t done it.. I may do it.. I may do it.. But we could call a national emergency and build it very quickly.”        WATCH: President Trump says he is considering declaring a national emergency as a potential attempt to circumvent Congress for border wall funding.. pic.twitter.com/7CYDuBS2pn— NBC News (@NBCNews) January 4, 2019          A White House official told CNN on Saturday that the president was leaning toward declaring a national emergency in order get the funding.. While it wouldn’t be the administration’s preferred strategy to obtain financing for the wall, it “provides a way out” of the current impasse.. “We can only stay like this for so long,” the official said.. Mick Mulvaney, the acting White House chief of staff, said Trump had ordered his Cabinet to search within their budgets to try to find any bit of money that could be funneled to build the wall.. “The president has asked every single Cabinet secretary, and the Office of Management and Budget, to go out and find money that can be used legally to guard the southern border,” he said on CNN.. Mick Mulvaney on whether he supports President Trump using his emergency powers to fund the border wall: “I’m actually heavily involved with it and have been working with all the Cabinet secretaries to try and find money that we can legally use to defend the southern border” pic.twitter.com/tXcU0ddhXa— CNN (@CNN) January 6, 2019          Speaking on Fox, White House press secretary Sarah Sanders said that a national emergency to build a wall was certainly a possibility that was being analyzed.. “The president’s prepared to do what it takes to protect our borders, to protect the people of this country,” Sanders told Chris Wallace.. “He knows that the No.. 1 job he has as president and commander-in-chief is to protect its citizens.”                  Democrats, however, warned the president would face immediate legal challenges if he tried to declare a national emergency to build a wall.. Rep. Adam Schiff said he didn’t think Trump would be able to go through with his threat.. “Look, if Harry Truman couldn’t nationalize the steel industry during wartime, this President doesn’t have the power to declare an emergency and build a multibillion dollar wall on the border,” Schiff said.. “So that’s a non-starter.”        Democratic Rep. @AdamSchiff says that President Trump potentially invoking emergency powers to fund the border wall is “a non-starter.” #CNNSOTU https://t.co/G4SOJQL8Uf pic.twitter.com/dYMDicirCU— CNN (@CNN) January 6, 2019          House Armed Services Committee Chairman Adam Smith, meanwhile, said that while the president does have the authority to declare an emergency, any move toward that end would leave the administration “wide open” to a court challenge.. “Unfortunately, the short answer is yes.. There is a provision in law that says the president can declare an emergency.. It’s been done a number of times.. But primarily it’s been done to build facilities in Afghanistan and Iraq,” Smith said on ABC.. “In this case, I think the president would be wide open to a court challenge saying, ‘where is the emergency?’ You have to establish that in order to do this.. But beyond that, this would be a terrible use of Department of Defense dollars.”        Rep. Adam Smith on whether Pres.. Trump has the authority to declare a national emergency and have the military build the wall: \"The short answer is yes,\" but Trump would be \"wide open to a court challenge, saying where is the emergency.\". https://t.co/Tm1bnHsp7t pic.twitter.com/DRlHAIPgqG— ABC News (@ABC) January 6, 2019Support our journalism                Help us continue covering the news and issues important to you—and                get ad-free podcasts and bonus segments,                members-only content, and other great benefits.. Join Slate Plus                Join                Slate PlusTweetShareComment'"
      ]
     },
     "execution_count": 17,
     "metadata": {},
     "output_type": "execute_result"
    }
   ],
   "source": [
    "for i in range(len(story_list)):\n",
    "    story = story_list[i]\n",
    "    sents = sent_tokenize(story)\n",
    "    for j in range(len(sents)):\n",
    "        sent = sents[j]\n",
    "        sent = sent.strip().replace('\\n','')\n",
    "        sents[j] = sent\n",
    "    story_list[i] = '. '.join(sents)\n",
    "story_list[0]"
   ]
  },
  {
   "cell_type": "code",
   "execution_count": 18,
   "metadata": {},
   "outputs": [],
   "source": [
    "\n",
    "texts = [[word for word in story.lower().split()\n",
    "        if word not in STOPWORDS and word.isalnum() and not word.lower() == 'slate']\n",
    "        for story in story_list]\n",
    "\n"
   ]
  },
  {
   "cell_type": "code",
   "execution_count": 20,
   "metadata": {},
   "outputs": [],
   "source": [
    "dictionary = corpora.Dictionary(texts) #(word_id,frequency) pairs\n",
    "corpus = [dictionary.doc2bow(text) for text in texts] #(word_id,freq) pairs by sentence\n",
    "#print(dictionary.token2id)\n",
    "#print(dictionary.keys())\n",
    "#print(corpus[3])\n",
    "#print(texts[3])\n",
    "#print(dictionary[37])\n",
    "#dictionary[4]\n"
   ]
  },
  {
   "cell_type": "code",
   "execution_count": 21,
   "metadata": {},
   "outputs": [
    {
     "name": "stdout",
     "output_type": "stream",
     "text": [
      "['woman', 'umbrella', 'walks', 'red', 'square', 'past', 'kremlin', 'night', 'heavy', 'snowfall', 'moscow', 'yuri', 'images', 'popular', 'news', 'politics', 'wall', 'reportedly', 'gimmick', 'campaign', 'aides', 'came', 'remember', 'talk', 'immigration', 'looks', 'like', 'trump', 'lied', 'said', 'presidents', 'supported', 'wall', 'democrats', 'trump', 'end', 'shutdown', 'giving', 'trump', 'says', 'declare', 'national', 'wall', 'far', 'clear', 'paul', 'citizen', 'arrested', 'russia', 'week', 'charged', 'actually', 'definitely', 'fishy', 'background', 'marine', 'current', 'head', 'security', 'auto', 'parts', 'traveled', 'russia', 'multiple', 'times', 'current', 'employers', 'traveling', 'according', 'attending', 'wedding', 'apparently', 'russian', 'culture', 'studied', 'language', 'liked', 'traveling', 'country', 'unusually', 'account', 'russian', 'version', 'contacts', 'site', 'new', 'york', 'times', 'describes', 'sort', 'connection', 'academies', 'run', 'russian', 'defense', 'ministry', 'civil', 'aviation', 'background', 'murky', '2006', 'dishonorably', 'discharged', 'marines', '2008', 'washington', 'post', 'reports', 'attempt', 'steal', 'worth', 'currency', 'government', 'deployed', 'iraq', '2006', 'bouncing', 'nearly', 'worth', 'checks', 'types', 'addition', 'whelan', 'passports', 'ongoing', 'competition', 'sister', 'collect', 'whelan', 'background', 'law', 'exaggerated', 'extent', '2013', 'court', 'said', 'deputy', 'county', 'police', 'officer', 'city', 'washtenaw', 'county', 'record', 'chelsea', 'actually', 'police', 'crossing', 'parking', 'timing', 'arrest', 'attracted', 'coming', '15', 'days', 'maria', 'butina', 'convicted', 'court', 'acting', 'unregistered', 'agent', 'moscow', '2016', 'making', 'russian', 'citizen', 'convicted', 'investigation', 'alleged', 'election', 'arrest', 'attempt', 'set', 'swap', 'simply', 'butina', 'viewed', 'russia', 'political', 'russian', 'lawmaker', 'tv', 'week', 'called', 'authorities', 'american', 'activities', 'like', 'actual', 'government', 'think', 'travel', 'conspicuous', 'cover', 'skripal', 'poisoning', 'misunderstood', 'gothic', 'architecture', 'cast', 'doubt', 'idea', 'secret', 'agents', 'carry', 'business', 'op', 'certainly', 'possible', 'whelan', 'entirely', 'legal', 'frequent', 'trips', 'possible', 'involved', 'representing', 'sort', 'intelligence', 'certain', 'russian', 'government', 'extract', 'maximum', 'political', 'value', 'strange', 'tweetsharecomment', 'russia', 'joshua', 'keating', 'staff', 'writer', 'focusing', 'international', 'affairs', 'author', 'forthcoming', 'invisible', 'twitteremail']\n"
     ]
    }
   ],
   "source": [
    "print(texts[3])"
   ]
  },
  {
   "cell_type": "code",
   "execution_count": 22,
   "metadata": {},
   "outputs": [],
   "source": [
    "#Set parameters\n",
    "num_topics = 3 #The number of topics that should be generated\n",
    "passes = 10"
   ]
  },
  {
   "cell_type": "code",
   "execution_count": 23,
   "metadata": {},
   "outputs": [],
   "source": [
    "lda = LdaModel(corpus,\n",
    "              id2word=dictionary,\n",
    "              num_topics=num_topics,\n",
    "              passes=passes)"
   ]
  },
  {
   "cell_type": "code",
   "execution_count": 24,
   "metadata": {},
   "outputs": [
    {
     "name": "stdout",
     "output_type": "stream",
     "text": [
      "[   (   0,\n",
      "        '0.021*\"trump\" + 0.011*\"president\" + 0.011*\"wall\" + 0.009*\"national\" + '\n",
      "        '0.008*\"said\" + 0.007*\"news\" + 0.007*\"court\" + 0.006*\"government\"'),\n",
      "    (   1,\n",
      "        '0.015*\"trump\" + 0.011*\"wall\" + 0.008*\"like\" + 0.006*\"government\" + '\n",
      "        '0.006*\"shutdown\" + 0.006*\"news\" + 0.005*\"president\" + 0.005*\"senate\"'),\n",
      "    (   2,\n",
      "        '0.015*\"trump\" + 0.015*\"government\" + 0.014*\"president\" + '\n",
      "        '0.013*\"mcconnell\" + 0.013*\"democrats\" + 0.012*\"said\" + '\n",
      "        '0.012*\"republicans\" + 0.012*\"senate\"')]\n"
     ]
    }
   ],
   "source": [
    "pp = pprint.PrettyPrinter(indent=4)\n",
    "pp.pprint(lda.print_topics(num_words=8))"
   ]
  },
  {
   "cell_type": "code",
   "execution_count": 26,
   "metadata": {},
   "outputs": [
    {
     "data": {
      "text/plain": [
       "[(1, 0.99708635), (0, 0.001476366), (2, 0.0014373073)]"
      ]
     },
     "execution_count": 26,
     "metadata": {},
     "output_type": "execute_result"
    }
   ],
   "source": [
    "from operator import itemgetter\n",
    "lda.get_document_topics(corpus[0],minimum_probability=0.05,per_word_topics=False)\n",
    "sorted(lda.get_document_topics(corpus[1],minimum_probability=0,per_word_topics=False),key=itemgetter(1),reverse=True)\n"
   ]
  },
  {
   "cell_type": "code",
   "execution_count": 27,
   "metadata": {},
   "outputs": [],
   "source": [
    "newdoc = \"\"\"\n",
    "President Trump broke with his own intelligence agencies on Friday, appearing to accept Saudi Arabia’s explanation that the journalist Jamal Khashoggi was killed by accident during a fistfight, while the United States’ spy agencies are increasingly convinced that he was assassinated on high-level orders from the Saudi royal court.\n",
    "\n",
    "Mr. Trump, who has cultivated Crown Prince Mohammed bin Salman and made Saudi Arabia the linchpin of his Middle East strategy, has been deeply reluctant to point a finger at the prince, despite evidence linking him to Saudi operatives who entered the country’s consulate in Istanbul the same day that Mr. Khashoggi disappeared there.\n",
    "\n",
    "Asked during a visit to an Air Force base in Arizona whether he viewed the Saudi explanation as credible, Mr. Trump said, “I do.”\n",
    "\n",
    "[Jamal Khashoggi is dead. Here is everything we know so far.]\n",
    "\n",
    "The president said he still had questions for Prince Mohammed, and he called the killing of Mr. Khashoggi “unacceptable.” Mr. Trump also raised the possibility of sanctions against Saudi Arabia, but said that he hoped that Congress would not try to block billions of dollars in weapons sales to the kingdom, which he has held up as proof of the fruits of the alliance.\n",
    "\n",
    "Mr. Trump’s response sets up a clash with Congress, where Republicans and Democrats both tarred the Saudi explanation as lacking credibility. A senior lawmaker briefed on American intelligence assessments of the circumstances surrounding Mr. Khashoggi’s death, and the likely culprits, said it was not consistent with the Saudi account.\n",
    "\n",
    "The lawmaker, Representative Adam B. Schiff of California, the senior Democrat on the House Intelligence Committee, said, “The kingdom and all involved in this brutal murder must be held accountable, and if the Trump administration will not take the lead, Congress must.”\n",
    "\n",
    "Senator Lindsey Graham, Republican of South Carolina and a close ally of Mr. Trump’s, declared in a Twitter post, “To say that I am skeptical of the new Saudi narrative about Mr. Khashoggi is an understatement.” He added, “It’s hard to find this latest ‘explanation’ as credible.”\n",
    "\n",
    "The growing evidence that Mr. Khashoggi, a Virginia resident and a columnist for The Washington Post, was killed on orders from the Saudi royal family has put Mr. Trump in an increasingly untenable position.\n",
    "\n",
    "On Friday evening, the president praised the statement issued by the Saudi government, which confirmed Mr. Khashoggi’s death, as a “good first step” and a “big step.” Earlier, the prince and other senior Saudi officials had denied any role in Mr. Khashoggi’s disappearance.\n",
    "\n",
    "Editors’ Picks\n",
    "\n",
    "11 Takeaways From The Times’s Investigation Into Trump’s Wealth\n",
    "\n",
    "50 Years Later, It Feels Familiar: How America Fractured in 1968\n",
    "\n",
    "How to Buy a Gun in 15 Countries\n",
    "Secretary of State Mike Pompeo spoke with Prince Mohammed by phone on Friday evening and then briefed Mr. Trump and his national security adviser, John R. Bolton, according to a White House spokesman.\n",
    "\n",
    "“I think we’re getting close to solving a big problem,” Mr. Trump told reporters at the Luke Air Force Base, where he was shown an Apache helicopter, an F-35 fighter jet and an array of bombs.\n",
    "\n",
    "Image\n",
    "Representative Adam B. Schiff of California, the top Democrat on the House Intelligence Committee, in May on Capitol Hill. He was among the lawmakers who tarred the explanation by Saudi Arabia as lacking credibility.CreditTom Brenner/The New York Times\n",
    "For the president, Saudi Arabia has become a key ally but also a troublesome partner. Saudi support is critical to his efforts to isolate Iran. But he has watched as Prince Mohammed pursued a deadly war in Yemen, carried on a feud with his neighbor Qatar, jailed female dissidents and detained hundreds of wealthy Saudis.\n",
    "\n",
    "Mr. Trump’s son-in-law and senior adviser, Jared Kushner, cultivated a relationship with the prince, who is close to him in age and who Mr. Kushner hoped would be an advocate for his peace proposal between Israel and the Palestinians.\n",
    "\n",
    "In internal discussions, Mr. Kushner has urged the president and his aides not to abandon Prince Mohammed. But as Turkish officials leaked details of the grisly killing of Mr. Khashoggi and of the dismemberment of his body, the White House has become increasingly isolated in its defense of Saudi Arabia.\n",
    "\n",
    "A stream of prominent Wall Street and tech executives canceled plans to attend an investor conference convened by the prince next week in Riyadh, the Saudi capital. On Thursday, Steven Mnuchin, the Treasury secretary, pulled out of the conference, as well, though he will attend a separate meeting on counterterrorism strategy.\n",
    "\n",
    "In an interview on Thursday with The New York Times, Mr. Trump acknowledged that the furor over Mr. Khashoggi’s death had mushroomed into one of the biggest foreign policy crises of his presidency.\n",
    "\n",
    "“This one has caught the imagination of the world, unfortunately,” Mr. Trump said. “It’s not a positive. Not a positive.”\n",
    "\n",
    "The president also said on Thursday that it was still “a little bit early” in the process to draw definitive conclusions about who ordered the killing. But he expressed no doubt that the truth would come out soon.\n",
    "\n",
    "“We’re working with the intelligence from numerous countries,” he said, adding, “This is the best intelligence we could have.”\n",
    "\n",
    "On Wednesday, The Times reported that American intelligence officials were increasingly convinced that Prince Mohammed is culpable in Mr. Khashoggi’s death, and that they were preparing an appraisal for the White House.\n",
    "\n",
    "Saudi Arabia tried to project the idea of a housecleaning, announcing that Saud al-Qahtani, a close aide to the crown prince; Maj. Gen. Ahmed al-Assiri, the deputy director of Saudi intelligence; and other high-ranking intelligence officials had been dismissed.\n",
    "\n",
    "For Mr. Trump, who is on a three-day swing in the West before the midterm elections, the Khashoggi affair has become a distraction during a period in which he had hoped to campaign for Republican congressional candidates on a message of economic growth and the recent confirmation of Justice Brett M. Kavanaugh to the Supreme Court.\n",
    "\n",
    "Just after answering questions about the Saudi announcement, Mr. Trump flew to a “Make America Great Again” rally in Mesa, Ariz.\n",
    "\n",
    "\n",
    "\"\"\""
   ]
  },
  {
   "cell_type": "code",
   "execution_count": 28,
   "metadata": {},
   "outputs": [
    {
     "data": {
      "text/plain": [
       "'\\nPresident Trump broke with his own intelligence agencies on Friday, appearing to accept Saudi Arabia’s explanation that the journalist Jamal Khashoggi was killed by accident during a fistfight, while the United States’ spy agencies are increasingly convinced that he was assassinated on high-level orders from the Saudi royal court.\\n\\nMr. Trump, who has cultivated Crown Prince Mohammed bin Salman and made Saudi Arabia the linchpin of his Middle East strategy, has been deeply reluctant to point a finger at the prince, despite evidence linking him to Saudi operatives who entered the country’s consulate in Istanbul the same day that Mr. Khashoggi disappeared there.\\n\\nAsked during a visit to an Air Force base in Arizona whether he viewed the Saudi explanation as credible, Mr. Trump said, “I do.”\\n\\n[Jamal Khashoggi is dead. Here is everything we know so far.]\\n\\nThe president said he still had questions for Prince Mohammed, and he called the killing of Mr. Khashoggi “unacceptable.” Mr. Trump also raised the possibility of sanctions against Saudi Arabia, but said that he hoped that Congress would not try to block billions of dollars in weapons sales to the kingdom, which he has held up as proof of the fruits of the alliance.\\n\\nMr. Trump’s response sets up a clash with Congress, where Republicans and Democrats both tarred the Saudi explanation as lacking credibility. A senior lawmaker briefed on American intelligence assessments of the circumstances surrounding Mr. Khashoggi’s death, and the likely culprits, said it was not consistent with the Saudi account.\\n\\nThe lawmaker, Representative Adam B. Schiff of California, the senior Democrat on the House Intelligence Committee, said, “The kingdom and all involved in this brutal murder must be held accountable, and if the Trump administration will not take the lead, Congress must.”\\n\\nSenator Lindsey Graham, Republican of South Carolina and a close ally of Mr. Trump’s, declared in a Twitter post, “To say that I am skeptical of the new Saudi narrative about Mr. Khashoggi is an understatement.” He added, “It’s hard to find this latest ‘explanation’ as credible.”\\n\\nThe growing evidence that Mr. Khashoggi, a Virginia resident and a columnist for The Washington Post, was killed on orders from the Saudi royal family has put Mr. Trump in an increasingly untenable position.\\n\\nOn Friday evening, the president praised the statement issued by the Saudi government, which confirmed Mr. Khashoggi’s death, as a “good first step” and a “big step.” Earlier, the prince and other senior Saudi officials had denied any role in Mr. Khashoggi’s disappearance.\\n\\nEditors’ Picks\\n\\n11 Takeaways From The Times’s Investigation Into Trump’s Wealth\\n\\n50 Years Later, It Feels Familiar: How America Fractured in 1968\\n\\nHow to Buy a Gun in 15 Countries\\nSecretary of State Mike Pompeo spoke with Prince Mohammed by phone on Friday evening and then briefed Mr. Trump and his national security adviser, John R. Bolton, according to a White House spokesman.\\n\\n“I think we’re getting close to solving a big problem,” Mr. Trump told reporters at the Luke Air Force Base, where he was shown an Apache helicopter, an F-35 fighter jet and an array of bombs.\\n\\nImage\\nRepresentative Adam B. Schiff of California, the top Democrat on the House Intelligence Committee, in May on Capitol Hill. He was among the lawmakers who tarred the explanation by Saudi Arabia as lacking credibility.CreditTom Brenner/The New York Times\\nFor the president, Saudi Arabia has become a key ally but also a troublesome partner. Saudi support is critical to his efforts to isolate Iran. But he has watched as Prince Mohammed pursued a deadly war in Yemen, carried on a feud with his neighbor Qatar, jailed female dissidents and detained hundreds of wealthy Saudis.\\n\\nMr. Trump’s son-in-law and senior adviser, Jared Kushner, cultivated a relationship with the prince, who is close to him in age and who Mr. Kushner hoped would be an advocate for his peace proposal between Israel and the Palestinians.\\n\\nIn internal discussions, Mr. Kushner has urged the president and his aides not to abandon Prince Mohammed. But as Turkish officials leaked details of the grisly killing of Mr. Khashoggi and of the dismemberment of his body, the White House has become increasingly isolated in its defense of Saudi Arabia.\\n\\nA stream of prominent Wall Street and tech executives canceled plans to attend an investor conference convened by the prince next week in Riyadh, the Saudi capital. On Thursday, Steven Mnuchin, the Treasury secretary, pulled out of the conference, as well, though he will attend a separate meeting on counterterrorism strategy.\\n\\nIn an interview on Thursday with The New York Times, Mr. Trump acknowledged that the furor over Mr. Khashoggi’s death had mushroomed into one of the biggest foreign policy crises of his presidency.\\n\\n“This one has caught the imagination of the world, unfortunately,” Mr. Trump said. “It’s not a positive. Not a positive.”\\n\\nThe president also said on Thursday that it was still “a little bit early” in the process to draw definitive conclusions about who ordered the killing. But he expressed no doubt that the truth would come out soon.\\n\\n“We’re working with the intelligence from numerous countries,” he said, adding, “This is the best intelligence we could have.”\\n\\nOn Wednesday, The Times reported that American intelligence officials were increasingly convinced that Prince Mohammed is culpable in Mr. Khashoggi’s death, and that they were preparing an appraisal for the White House.\\n\\nSaudi Arabia tried to project the idea of a housecleaning, announcing that Saud al-Qahtani, a close aide to the crown prince; Maj. Gen. Ahmed al-Assiri, the deputy director of Saudi intelligence; and other high-ranking intelligence officials had been dismissed.\\n\\nFor Mr. Trump, who is on a three-day swing in the West before the midterm elections, the Khashoggi affair has become a distraction during a period in which he had hoped to campaign for Republican congressional candidates on a message of economic growth and the recent confirmation of Justice Brett M. Kavanaugh to the Supreme Court.\\n\\nJust after answering questions about the Saudi announcement, Mr. Trump flew to a “Make America Great Again” rally in Mesa, Ariz.\\n\\n\\n'"
      ]
     },
     "execution_count": 28,
     "metadata": {},
     "output_type": "execute_result"
    }
   ],
   "source": [
    "newdoc"
   ]
  },
  {
   "cell_type": "code",
   "execution_count": 29,
   "metadata": {},
   "outputs": [],
   "source": [
    "text = newdoc\n",
    "striptext = text.replace('\\n\\n', ' ')\n",
    "striptext = striptext.replace('\\n', ' ')\n",
    "new_text = [nltk.word_tokenize(striptext)]\n",
    "\n",
    "textdictionary = corpora.Dictionary(new_text) #(word_id,frequency) pairs\n",
    "corpus_new = [dictionary.doc2bow(text) for text in new_text] #(word_id,freq) pairs by sentence"
   ]
  },
  {
   "cell_type": "code",
   "execution_count": 30,
   "metadata": {},
   "outputs": [
    {
     "data": {
      "text/plain": [
       "[(0, 0.5856626), (1, 0.20973863), (2, 0.20459875)]"
      ]
     },
     "execution_count": 30,
     "metadata": {},
     "output_type": "execute_result"
    }
   ],
   "source": [
    "from operator import itemgetter\n",
    "lda.get_document_topics(corpus_new[0],minimum_probability=0.05,per_word_topics=False)\n",
    "sorted(lda.get_document_topics(corpus_new[0],minimum_probability=0,per_word_topics=False),key=itemgetter(1),reverse=True)"
   ]
  },
  {
   "cell_type": "code",
   "execution_count": 31,
   "metadata": {},
   "outputs": [
    {
     "data": {
      "text/plain": [
       "'0.015*\"trump\" + 0.015*\"government\" + 0.014*\"president\" + 0.013*\"mcconnell\" + 0.013*\"democrats\" + 0.012*\"said\" + 0.012*\"republicans\" + 0.012*\"senate\" + 0.010*\"house\" + 0.009*\"wall\"'"
      ]
     },
     "execution_count": 31,
     "metadata": {},
     "output_type": "execute_result"
    }
   ],
   "source": [
    "lda.print_topic(topicno=2)"
   ]
  },
  {
   "cell_type": "code",
   "execution_count": 45,
   "metadata": {
    "collapsed": true
   },
   "outputs": [],
   "source": [
    "def draw_wordcloud(lda,topicnum,min_size=0,STOPWORDS=[]):\n",
    "    word_list=[]\n",
    "    prob_total = 0\n",
    "    for word,prob in lda.show_topic(topicnum,topn=50):\n",
    "        prob_total +=prob\n",
    "    for word,prob in lda.show_topic(topicnum,topn=50):\n",
    "        if word in STOPWORDS or  len(word) < min_size:\n",
    "            continue\n",
    "        freq = int(prob/prob_total*1000)\n",
    "        alist=[word]\n",
    "        word_list.extend(alist*freq)\n",
    "\n",
    "    from wordcloud import WordCloud, STOPWORDS\n",
    "    import matplotlib.pyplot as plt\n",
    "    %matplotlib inline\n",
    "    from random import shuffle\n",
    "    shuffle(word_list)\n",
    "    text = ' '.join(word_list)\n",
    "    wordcloud = WordCloud(stopwords=STOPWORDS,background_color='white',max_words=20).generate(text)\n",
    "\n",
    "    plt.axis('off')\n",
    "    plt.imshow(wordcloud)\n",
    "\n",
    "    return None"
   ]
  },
  {
   "cell_type": "code",
   "execution_count": 48,
   "metadata": {},
   "outputs": [
    {
     "data": {
      "image/png": "[encoded data removed]",
      "text/plain": [
       "<matplotlib.figure.Figure at 0x11c4bc2e8>"
      ]
     },
     "metadata": {},
     "output_type": "display_data"
    }
   ],
   "source": [
    "draw_wordcloud(lda,0)"
   ]
  },
  {
   "cell_type": "code",
   "execution_count": 32,
   "metadata": {},
   "outputs": [
    {
     "name": "stdout",
     "output_type": "stream",
     "text": [
      "[   (   0,\n",
      "        '0.021*\"trump\" + 0.011*\"president\" + 0.011*\"wall\" + 0.009*\"national\" + '\n",
      "        '0.008*\"said\" + 0.007*\"news\" + 0.007*\"court\" + 0.006*\"government\"'),\n",
      "    (   1,\n",
      "        '0.015*\"trump\" + 0.011*\"wall\" + 0.008*\"like\" + 0.006*\"government\" + '\n",
      "        '0.006*\"shutdown\" + 0.006*\"news\" + 0.005*\"president\" + 0.005*\"senate\"'),\n",
      "    (   2,\n",
      "        '0.015*\"trump\" + 0.015*\"government\" + 0.014*\"president\" + '\n",
      "        '0.013*\"mcconnell\" + 0.013*\"democrats\" + 0.012*\"said\" + '\n",
      "        '0.012*\"republicans\" + 0.012*\"senate\"')]\n"
     ]
    }
   ],
   "source": [
    "pp.pprint(lda.print_topics(num_words=8))"
   ]
  },
  {
   "cell_type": "code",
   "execution_count": 33,
   "metadata": {},
   "outputs": [
    {
     "data": {
      "text/html": [
       "\n",
       "<link rel=\"stylesheet\" type=\"text/css\" href=\"https://cdn.rawgit.com/bmabey/pyLDAvis/files/ldavis.v1.0.0.css\">\n",
       "\n",
       "\n",
       "<div id=\"ldavis_el1058647714890166500122260\"></div>\n",
       "<script type=\"text/javascript\">\n",
       "\n",
       "var ldavis_el1058647714890166500122260_data = {\"mdsDat\": {\"x\": [-0.08501454412081406, -0.03641869745715589, 0.12143324157796995], \"y\": [0.08653144130041497, -0.11317076343179885, 0.026639322131383862], \"topics\": [1, 2, 3], \"cluster\": [1, 1, 1], \"Freq\": [53.932594299316406, 25.597965240478516, 20.469438552856445]}, \"tinfo\": {\"Category\": [\"Default\", \"Default\", \"Default\", \"Default\", \"Default\", \"Default\", \"Default\", \"Default\", \"Default\", \"Default\", \"Default\", \"Default\", \"Default\", \"Default\", \"Default\", \"Default\", \"Default\", \"Default\", \"Default\", \"Default\", \"Default\", \"Default\", \"Default\", \"Default\", \"Default\", \"Default\", \"Default\", \"Default\", \"Default\", \"Default\", \"Topic1\", \"Topic1\", \"Topic1\", \"Topic1\", \"Topic1\", \"Topic1\", \"Topic1\", \"Topic1\", \"Topic1\", \"Topic1\", \"Topic1\", \"Topic1\", \"Topic1\", \"Topic1\", \"Topic1\", \"Topic1\", \"Topic1\", \"Topic1\", \"Topic1\", \"Topic1\", \"Topic1\", \"Topic1\", \"Topic1\", \"Topic1\", \"Topic1\", \"Topic1\", \"Topic1\", \"Topic1\", \"Topic1\", \"Topic1\", \"Topic1\", \"Topic1\", \"Topic1\", \"Topic1\", \"Topic1\", \"Topic1\", \"Topic1\", \"Topic1\", \"Topic1\", \"Topic1\", \"Topic1\", \"Topic1\", \"Topic1\", \"Topic1\", \"Topic1\", \"Topic1\", \"Topic1\", \"Topic1\", \"Topic1\", \"Topic1\", \"Topic1\", \"Topic1\", \"Topic1\", \"Topic1\", \"Topic1\", \"Topic1\", \"Topic2\", \"Topic2\", \"Topic2\", \"Topic2\", \"Topic2\", \"Topic2\", \"Topic2\", \"Topic2\", \"Topic2\", \"Topic2\", \"Topic2\", \"Topic2\", \"Topic2\", \"Topic2\", \"Topic2\", \"Topic2\", \"Topic2\", \"Topic2\", \"Topic2\", \"Topic2\", \"Topic2\", \"Topic2\", \"Topic2\", \"Topic2\", \"Topic2\", \"Topic2\", \"Topic2\", \"Topic2\", \"Topic2\", \"Topic2\", \"Topic2\", \"Topic2\", \"Topic2\", \"Topic2\", \"Topic2\", \"Topic2\", \"Topic2\", \"Topic2\", \"Topic2\", \"Topic2\", \"Topic2\", \"Topic2\", \"Topic2\", \"Topic2\", \"Topic2\", \"Topic2\", \"Topic2\", \"Topic2\", \"Topic2\", \"Topic2\", \"Topic2\", \"Topic2\", \"Topic2\", \"Topic2\", \"Topic2\", \"Topic2\", \"Topic2\", \"Topic2\", \"Topic2\", \"Topic3\", \"Topic3\", \"Topic3\", \"Topic3\", \"Topic3\", \"Topic3\", \"Topic3\", \"Topic3\", \"Topic3\", \"Topic3\", \"Topic3\", \"Topic3\", \"Topic3\", \"Topic3\", \"Topic3\", \"Topic3\", \"Topic3\", \"Topic3\", \"Topic3\", \"Topic3\", \"Topic3\", \"Topic3\", \"Topic3\", \"Topic3\", \"Topic3\", \"Topic3\", \"Topic3\", \"Topic3\", \"Topic3\", \"Topic3\", \"Topic3\", \"Topic3\", \"Topic3\", \"Topic3\", \"Topic3\", \"Topic3\", \"Topic3\", \"Topic3\", \"Topic3\", \"Topic3\", \"Topic3\", \"Topic3\", \"Topic3\", \"Topic3\", \"Topic3\", \"Topic3\", \"Topic3\", \"Topic3\", \"Topic3\", \"Topic3\", \"Topic3\", \"Topic3\", \"Topic3\", \"Topic3\", \"Topic3\", \"Topic3\", \"Topic3\", \"Topic3\", \"Topic3\", \"Topic3\"], \"Freq\": [28.0, 33.0, 34.0, 48.0, 68.0, 12.0, 22.0, 11.0, 11.0, 13.0, 87.0, 70.0, 51.0, 9.0, 13.0, 11.0, 11.0, 21.0, 11.0, 12.0, 17.0, 10.0, 10.0, 16.0, 14.0, 7.0, 9.0, 19.0, 18.0, 19.0, 19.14215660095215, 17.46922492980957, 17.406864166259766, 15.727301597595215, 15.707989692687988, 14.865836143493652, 14.023382186889648, 13.141267776489258, 12.285130500793457, 11.420450210571289, 10.563565254211426, 10.5629243850708, 9.714851379394531, 9.712895393371582, 9.705111503601074, 8.857612609863281, 8.855834007263184, 8.00703239440918, 8.004596710205078, 7.9960784912109375, 7.151334762573242, 7.147421836853027, 7.146223068237305, 7.140445232391357, 7.935197830200195, 7.138775825500488, 7.138113021850586, 7.137936115264893, 7.122033596038818, 7.910074710845947, 27.772132873535156, 23.4296932220459, 42.45076370239258, 19.197078704833984, 31.139841079711914, 16.582853317260742, 20.909862518310547, 94.88409423828125, 20.122896194458008, 13.14462661743164, 51.8350830078125, 31.624197006225586, 11.430870056152344, 21.822744369506836, 49.41484069824219, 38.139434814453125, 27.835609436035156, 15.805099487304688, 21.71491050720215, 14.939005851745605, 28.658447265625, 22.826946258544922, 22.622848510742188, 19.26297950744629, 16.61012077331543, 14.88106918334961, 6.956554889678955, 6.953609466552734, 6.954437255859375, 6.9529218673706055, 5.464235782623291, 5.422842979431152, 4.723123550415039, 4.7222065925598145, 4.722364902496338, 4.720384120941162, 4.719914436340332, 4.7195353507995605, 4.719098091125488, 4.7183518409729, 4.718234539031982, 4.717161178588867, 4.716784477233887, 4.712316513061523, 4.703558921813965, 4.701517581939697, 3.9742448329925537, 3.9729464054107666, 3.967484951019287, 9.198739051818848, 9.195589065551758, 3.22865891456604, 3.2279770374298096, 3.2279858589172363, 3.2279231548309326, 3.22847843170166, 8.422901153564453, 3.82580828666687, 8.443000793457031, 11.438727378845215, 6.192102432250977, 6.204194068908691, 24.872032165527344, 11.434737205505371, 16.570091247558594, 33.193267822265625, 9.223947525024414, 7.715973854064941, 11.568963050842285, 13.662338256835938, 11.49594497680664, 9.03492546081543, 12.6354341506958, 13.753568649291992, 11.528263092041016, 9.951447486877441, 10.849881172180176, 11.578377723693848, 10.74574089050293, 7.686053276062012, 6.942845344543457, 6.905547142028809, 6.987654209136963, 7.004920482635498, 7.024050235748291, 10.736886024475098, 11.385908126831055, 10.655014991760254, 8.625473022460938, 6.5278825759887695, 4.433700084686279, 4.431224822998047, 4.430638313293457, 4.43058443069458, 4.430529594421387, 4.4289703369140625, 4.42838191986084, 4.427754878997803, 3.7282650470733643, 3.03549861907959, 3.0340278148651123, 3.032383918762207, 3.0321407318115234, 3.031453847885132, 3.0261101722717285, 3.022003173828125, 3.0208117961883545, 23.343881607055664, 2.334522008895874, 2.3337509632110596, 2.333740472793579, 2.333629608154297, 2.333574056625366, 2.3336455821990967, 2.3334908485412598, 10.729970932006836, 8.641311645507812, 8.627482414245605, 4.434146881103516, 7.928951740264893, 8.645962715148926, 21.245777130126953, 21.26395606994629, 13.544242858886719, 8.633950233459473, 22.658655166625977, 9.341117858886719, 8.635242462158203, 26.21927261352539, 5.833482265472412, 17.7816104888916, 21.308013916015625, 24.102622985839844, 9.354236602783203, 27.00095558166504, 7.944634437561035, 8.643160820007324, 15.013876914978027, 5.833714962005615, 7.235590934753418, 7.957925319671631, 6.542342185974121, 7.972079277038574, 7.267656326293945, 7.316400527954102], \"Term\": [\"mcconnell\", \"senate\", \"republicans\", \"democrats\", \"government\", \"warren\", \"republican\", \"legislation\", \"antitrust\", \"passed\", \"president\", \"said\", \"house\", \"shut\", \"know\", \"reopen\", \"bills\", \"money\", \"laws\", \"vote\", \"congressional\", \"billion\", \"russian\", \"want\", \"congress\", \"hiding\", \"looking\", \"support\", \"pay\", \"funding\", \"people\", \"january\", \"state\", \"museum\", \"phillips\", \"criminal\", \"2019\", \"jury\", \"cakes\", \"rights\", \"amendment\", \"restitution\", \"order\", \"justices\", \"gorsuch\", \"freedom\", \"united\", \"cabinet\", \"crisis\", \"brown\", \"protect\", \"arbitrary\", \"sixth\", \"transgender\", \"joe\", \"religion\", \"judge\", \"custom\", \"syria\", \"biden\", \"emergency\", \"colorado\", \"national\", \"build\", \"court\", \"supreme\", \"told\", \"trump\", \"declare\", \"case\", \"president\", \"news\", \"justice\", \"white\", \"wall\", \"said\", \"shutdown\", \"came\", \"border\", \"presidents\", \"government\", \"like\", \"house\", \"join\", \"says\", \"donald\", \"sides\", \"weekend\", \"meeting\", \"offer\", \"sort\", \"podcast\", \"share\", \"movement\", \"signing\", \"gone\", \"possible\", \"negotiate\", \"moving\", \"projection\", \"details\", \"whelan\", \"pence\", \"background\", \"worth\", \"link\", \"2013\", \"2016\", \"listen\", \"billion\", \"russian\", \"traveling\", \"moscow\", \"butina\", \"citizen\", \"gist\", \"looking\", \"daily\", \"russia\", \"congressional\", \"actually\", \"members\", \"wall\", \"immigration\", \"like\", \"trump\", \"funding\", \"week\", \"senate\", \"shutdown\", \"republicans\", \"podcasts\", \"news\", \"government\", \"house\", \"join\", \"democrats\", \"president\", \"said\", \"white\", \"aides\", \"plus\", \"republican\", \"says\", \"border\", \"legislation\", \"warren\", \"antitrust\", \"shut\", \"hiding\", \"mexico\", \"thing\", \"opposed\", \"oppose\", \"reporter\", \"position\", \"mccarthy\", \"buck\", \"blame\", \"ad\", \"explained\", \"controlled\", \"produce\", \"ways\", \"includes\", \"monopoly\", \"corporate\", \"mcconnell\", \"blocker\", \"debated\", \"feign\", \"hardball\", \"advocating\", \"constitution\", \"section\", \"passed\", \"reopen\", \"bills\", \"paying\", \"laws\", \"vote\", \"senate\", \"republicans\", \"republican\", \"know\", \"democrats\", \"want\", \"congress\", \"government\", \"taken\", \"house\", \"said\", \"president\", \"support\", \"trump\", \"sign\", \"money\", \"wall\", \"brought\", \"pay\", \"join\", \"think\", \"like\", \"says\", \"shutdown\"], \"Total\": [28.0, 33.0, 34.0, 48.0, 68.0, 12.0, 22.0, 11.0, 11.0, 13.0, 87.0, 70.0, 51.0, 9.0, 13.0, 11.0, 11.0, 21.0, 11.0, 12.0, 17.0, 10.0, 10.0, 16.0, 14.0, 7.0, 9.0, 19.0, 18.0, 19.0, 19.698265075683594, 17.983686447143555, 17.974735260009766, 16.258010864257812, 16.255962371826172, 15.397851943969727, 14.539738655090332, 13.675419807434082, 12.8153076171875, 11.9539794921875, 11.093223571777344, 11.093438148498535, 10.234272003173828, 10.233924865722656, 10.233012199401855, 9.374123573303223, 9.373831748962402, 8.514632225036621, 8.51436996459961, 8.513165473937988, 7.654415607452393, 7.654079437255859, 7.653627872467041, 7.652883529663086, 8.505290985107422, 7.652806282043457, 7.652467250823975, 7.652327537536621, 7.650595664978027, 8.501760482788086, 30.55600929260254, 26.246156692504883, 51.091888427734375, 21.952102661132812, 36.98223876953125, 19.36414337158203, 25.77976417541504, 155.0783233642578, 25.769775390625, 15.782573699951172, 87.51608276367188, 48.04512023925781, 13.359956741333008, 30.48241424560547, 89.30075073242188, 70.19319152832031, 48.81434631347656, 21.462770462036133, 35.33620834350586, 20.6021671295166, 68.63128662109375, 47.369117736816406, 51.93272399902344, 37.1723518371582, 30.88269805908203, 25.602853775024414, 7.510112285614014, 7.5097975730896, 7.5113139152526855, 7.510908603668213, 6.01276969909668, 6.019537448883057, 5.263564109802246, 5.263611316680908, 5.264655113220215, 5.263810634613037, 5.2633562088012695, 5.2638702392578125, 5.264212131500244, 5.263517379760742, 5.263869285583496, 5.264007568359375, 5.264133930206299, 5.264455318450928, 5.265893459320068, 5.26670503616333, 4.51508903503418, 4.515014171600342, 4.5168538093566895, 10.616896629333496, 10.615896224975586, 3.766140937805176, 3.765739679336548, 3.76576566696167, 3.765965700149536, 3.7669260501861572, 9.872335433959961, 4.536600112915039, 11.59016227722168, 17.938323974609375, 8.485877990722656, 9.345117568969727, 89.30075073242188, 25.141143798828125, 47.369117736816406, 155.0783233642578, 19.521142959594727, 13.806812286376953, 33.924076080322266, 48.81434631347656, 34.79186248779297, 22.059236526489258, 48.04512023925781, 68.63128662109375, 51.93272399902344, 37.1723518371582, 48.348388671875, 87.51608276367188, 70.19319152832031, 30.48241424560547, 19.405603408813477, 20.497955322265625, 22.577926635742188, 30.88269805908203, 35.33620834350586, 11.305835723876953, 12.019376754760742, 11.322908401489258, 9.19979476928711, 7.0929484367370605, 4.984906196594238, 4.985253810882568, 4.985435962677002, 4.985376358032227, 4.985354900360107, 4.985515117645264, 4.985383033752441, 4.9857707023620605, 4.28372859954834, 3.580034017562866, 3.5801095962524414, 3.5806264877319336, 3.580502986907959, 3.5803651809692383, 3.5814156532287598, 3.5828027725219727, 3.5830559730529785, 28.44312858581543, 2.8778162002563477, 2.877768039703369, 2.877772808074951, 2.8777177333831787, 2.877786636352539, 2.8779540061950684, 2.877793788909912, 13.553447723388672, 11.445779800415039, 11.447745323181152, 5.736758708953857, 11.079567909240723, 12.299942970275879, 33.924076080322266, 34.79186248779297, 22.577926635742188, 13.500808715820312, 48.348388671875, 16.473388671875, 14.88792610168457, 68.63128662109375, 9.497783660888672, 51.93272399902344, 70.19319152832031, 87.51608276367188, 19.889602661132812, 155.0783233642578, 17.18622589111328, 21.245487213134766, 89.30075073242188, 9.832292556762695, 18.12091827392578, 37.1723518371582, 16.01860809326172, 47.369117736816406, 30.88269805908203, 48.81434631347656], \"loglift\": [30.0, 29.0, 28.0, 27.0, 26.0, 25.0, 24.0, 23.0, 22.0, 21.0, 20.0, 19.0, 18.0, 17.0, 16.0, 15.0, 14.0, 13.0, 12.0, 11.0, 10.0, 9.0, 8.0, 7.0, 6.0, 5.0, 4.0, 3.0, 2.0, 1.0, 0.5888000130653381, 0.5884000062942505, 0.5853000283241272, 0.5842000246047974, 0.5831000208854675, 0.5823000073432922, 0.5813000202178955, 0.5776000022888184, 0.5752000212669373, 0.5717999935150146, 0.5684999823570251, 0.5684000253677368, 0.5652999877929688, 0.5651999711990356, 0.5644999742507935, 0.5608000159263611, 0.5605999827384949, 0.5559999942779541, 0.5557000041007996, 0.5547999739646912, 0.5494999885559082, 0.5489000082015991, 0.548799991607666, 0.5480999946594238, 0.5480999946594238, 0.5479000210762024, 0.5479000210762024, 0.5478000044822693, 0.545799970626831, 0.5453000068664551, 0.5218999981880188, 0.5038999915122986, 0.43220001459121704, 0.48330000042915344, 0.445499986410141, 0.46239998936653137, 0.4081000089645386, 0.12620000541210175, 0.3700999915599823, 0.4345000088214874, 0.09369999915361404, 0.19920000433921814, 0.46149998903274536, 0.2831999957561493, 0.025699999183416367, 0.007400000002235174, 0.05570000037550926, 0.31139999628067017, 0.13050000369548798, 0.29600000381469727, -0.25589999556541443, -0.11259999871253967, -0.21359999477863312, -0.039900001138448715, -0.0027000000700354576, 0.07479999959468842, 1.2861000299453735, 1.2856999635696411, 1.285599946975708, 1.2855000495910645, 1.2669999599456787, 1.2582999467849731, 1.2542999982833862, 1.25409996509552, 1.253999948501587, 1.2537000179290771, 1.2537000179290771, 1.253499984741211, 1.2532999515533447, 1.2532999515533447, 1.2532000541687012, 1.253000020980835, 1.2529000043869019, 1.2518999576568604, 1.2496999502182007, 1.2490999698638916, 1.2351000308990479, 1.2347999811172485, 1.2330000400543213, 1.2193000316619873, 1.218999981880188, 1.2086999416351318, 1.2086000442504883, 1.2086000442504883, 1.2085000276565552, 1.208400011062622, 1.2038999795913696, 1.192199945449829, 1.045799970626831, 0.9126999974250793, 1.0475000143051147, 0.953000009059906, 0.0843999981880188, 0.5748000144958496, 0.3122999966144562, -0.17890000343322754, 0.6129999756813049, 0.7807999849319458, 0.28690001368522644, 0.0892999991774559, 0.25529998540878296, 0.4699999988079071, 0.027000000700354576, -0.24480000138282776, -0.14249999821186066, 0.04479999840259552, -0.1316000074148178, -0.6600000262260437, -0.5141000151634216, -0.01510000042617321, 0.33480000495910645, 0.27469998598098755, 0.18979999423027039, -0.120899997651577, -0.25290000438690186, 1.534600019454956, 1.532099962234497, 1.5254000425338745, 1.5218000411987305, 1.5032000541687012, 1.469099998474121, 1.468400001525879, 1.4682999849319458, 1.4682999849319458, 1.4682999849319458, 1.467900037765503, 1.4678000211715698, 1.4674999713897705, 1.4473999738693237, 1.4212000370025635, 1.420699954032898, 1.4199999570846558, 1.4199999570846558, 1.419800043106079, 1.417799949645996, 1.4160000085830688, 1.4155000448226929, 1.388700008392334, 1.3769999742507935, 1.3767000436782837, 1.3767000436782837, 1.3767000436782837, 1.3766000270843506, 1.3766000270843506, 1.3766000270843506, 1.3525999784469604, 1.3051999807357788, 1.3034000396728516, 1.3286999464035034, 1.2517000436782837, 1.2337000370025635, 1.118299961090088, 1.0938999652862549, 1.0751999616622925, 1.13919997215271, 0.8282999992370605, 1.0189000368118286, 1.0414999723434448, 0.6240000128746033, 1.0987999439239502, 0.5145000219345093, 0.39410001039505005, 0.29670000076293945, 0.8319000005722046, -0.16179999709129333, 0.8145999908447266, 0.6869000196456909, -0.19679999351501465, 1.0642000436782837, 0.6682000160217285, 0.04479999840259552, 0.6908000111579895, -0.19580000638961792, 0.13950000703334808, -0.3116999864578247], \"logprob\": [30.0, 29.0, 28.0, 27.0, 26.0, 25.0, 24.0, 23.0, 22.0, 21.0, 20.0, 19.0, 18.0, 17.0, 16.0, 15.0, 14.0, 13.0, 12.0, 11.0, 10.0, 9.0, 8.0, 7.0, 6.0, 5.0, 4.0, 3.0, 2.0, 1.0, -5.482600212097168, -5.574100017547607, -5.577600002288818, -5.679100036621094, -5.680300235748291, -5.735400199890137, -5.793799877166748, -5.858699798583984, -5.92609977722168, -5.999100208282471, -6.077099800109863, -6.077099800109863, -6.160799980163574, -6.160999774932861, -6.161799907684326, -6.253200054168701, -6.253399848937988, -6.3541998863220215, -6.354499816894531, -6.355500221252441, -6.467199802398682, -6.467700004577637, -6.467899799346924, -6.468699932098389, -6.3632001876831055, -6.468999862670898, -6.468999862670898, -6.469099998474121, -6.47130012512207, -6.366399765014648, -5.110499858856201, -5.2804999351501465, -4.686200141906738, -5.479700088500977, -4.995999813079834, -5.626100063323975, -5.3942999839782715, -3.8817999362945557, -5.432600021362305, -5.858500003814697, -4.486400127410889, -4.980599880218506, -5.998199939727783, -5.351500034332275, -4.534200191497803, -4.7932000160217285, -5.1082000732421875, -5.674200057983398, -5.356500148773193, -5.730500221252441, -5.078999996185303, -5.306600093841553, -5.315499782562256, -5.47629976272583, -5.624499797821045, -5.734399795532227, -5.749599933624268, -5.75, -5.749899864196777, -5.750100135803223, -5.991000175476074, -5.998700141906738, -6.1367998123168945, -6.13700008392334, -6.13700008392334, -6.137400150299072, -6.137499809265137, -6.137599945068359, -6.137700080871582, -6.137800216674805, -6.137800216674805, -6.1381001472473145, -6.1381001472473145, -6.139100074768066, -6.140999794006348, -6.14139986038208, -6.3094000816345215, -6.309800148010254, -6.311100006103516, -5.470200061798096, -5.4704999923706055, -6.517199993133545, -6.517399787902832, -6.517399787902832, -6.517399787902832, -6.517300128936768, -5.558300018310547, -6.347499847412109, -5.5559000968933105, -5.252299785614014, -5.866000175476074, -5.863999843597412, -4.475500106811523, -5.252600193023682, -4.881700038909912, -4.1869001388549805, -5.46750020980835, -5.645999908447266, -5.240900039672852, -5.0746002197265625, -5.247300148010254, -5.4882001876831055, -5.1528000831604, -5.067999839782715, -5.244500160217285, -5.391600131988525, -5.305099964141846, -5.240099906921387, -5.314799785614014, -5.649899959564209, -5.7515997886657715, -5.756899833679199, -5.745100021362305, -5.742700099945068, -5.7399001121521, -5.0920000076293945, -5.033299922943115, -5.099699974060059, -5.310999870300293, -5.589600086212158, -5.976500034332275, -5.9770002365112305, -5.977200031280518, -5.977200031280518, -5.977200031280518, -5.977499961853027, -5.977700233459473, -5.977799892425537, -6.149799823760986, -6.355299949645996, -6.355800151824951, -6.356299877166748, -6.356400012969971, -6.3566999435424805, -6.358399868011475, -6.359799861907959, -6.360199928283691, -4.315400123596191, -6.6178998947143555, -6.618199825286865, -6.618199825286865, -6.618299961090088, -6.618299961090088, -6.618299961090088, -6.618299961090088, -5.092700004577637, -5.309100151062012, -5.310699939727783, -5.976399898529053, -5.395199775695801, -5.308599948883057, -4.4095001220703125, -4.408699989318848, -4.8597002029418945, -5.309999942779541, -4.345200061798096, -5.231299877166748, -5.309800148010254, -4.19920015335083, -5.702099800109863, -4.587500095367432, -4.406599998474121, -4.283400058746338, -5.229899883270264, -4.1697998046875, -5.393199920654297, -5.308899879455566, -4.756700038909912, -5.702000141143799, -5.486700057983398, -5.391499996185303, -5.587399959564209, -5.389699935913086, -5.4822998046875, -5.475599765777588]}, \"token.table\": {\"Topic\": [2, 2, 1, 1, 2, 3, 3, 1, 2, 3, 1, 3, 1, 2, 1, 1, 2, 2, 3, 3, 3, 1, 2, 3, 1, 3, 1, 3, 1, 2, 2, 1, 1, 1, 2, 3, 1, 3, 2, 1, 2, 1, 2, 3, 1, 2, 3, 3, 3, 3, 1, 2, 1, 1, 1, 2, 3, 1, 2, 3, 1, 2, 3, 2, 1, 2, 3, 1, 2, 3, 3, 1, 1, 2, 3, 2, 2, 1, 1, 2, 3, 3, 3, 1, 2, 3, 1, 2, 3, 3, 1, 1, 1, 2, 3, 1, 1, 1, 3, 1, 1, 3, 1, 3, 3, 1, 2, 3, 2, 2, 1, 2, 3, 2, 3, 2, 1, 2, 3, 1, 3, 3, 2, 2, 2, 1, 1, 2, 3, 2, 1, 2, 3, 2, 3, 3, 1, 2, 3, 1, 3, 2, 3, 2, 1, 1, 1, 2, 3, 2, 1, 2, 3, 3, 2, 1, 2, 3, 1, 2, 3, 3, 2, 1, 1, 2, 3, 3, 1, 2, 3, 1, 2, 3, 1, 1, 1, 2, 1, 2, 1, 2, 3, 1, 2, 3, 3, 1, 2, 3, 2, 3, 1, 2, 3, 2, 1, 2, 3, 2, 1, 2, 1, 1, 2, 3, 1, 2, 1, 1, 2, 3, 3, 1, 2, 3, 1, 2, 3, 1, 2, 1, 2, 3, 1, 1, 2, 3, 1, 2, 3, 1, 2, 3, 3, 3, 1, 2, 3, 2, 2, 1, 2, 3, 2], \"Freq\": [0.8859183192253113, 0.885932981967926, 0.962878406047821, 0.23568569123744965, 0.7070570588111877, 0.8379808664321899, 0.6949785351753235, 0.6183781027793884, 0.36072054505348206, 0.051531508564949036, 0.9915963411331177, 0.9714818596839905, 0.9145449995994568, 0.9497658610343933, 0.9409815669059753, 0.09418947994709015, 0.8477053642272949, 0.26206034421920776, 0.7861810326576233, 0.9337659478187561, 0.6949714422225952, 0.6225908398628235, 0.1980970948934555, 0.1980970948934555, 0.40682271122932434, 0.6102340817451477, 0.9397209286689758, 0.8022831678390503, 0.865520715713501, 0.13666117191314697, 0.796650767326355, 0.9395591020584106, 0.93638014793396, 0.7454769015312195, 0.2329615354537964, 0.04659230634570122, 0.8236932754516602, 0.1267220377922058, 0.7966084480285645, 0.8763187527656555, 0.11430244892835617, 0.2686740756034851, 0.20150557160377502, 0.6045166850090027, 0.11149313300848007, 0.6132122278213501, 0.22298626601696014, 0.6949381232261658, 0.8378422260284424, 0.8372741341590881, 0.8382402062416077, 0.16224004328250885, 0.9741618633270264, 0.9395880103111267, 0.9147543907165527, 0.8817175626754761, 0.6949830651283264, 0.7761030197143555, 0.19402575492858887, 0.038805149495601654, 0.3102481961250305, 0.2275153398513794, 0.4757138788700104, 0.9498715996742249, 0.5858721733093262, 0.23434887826442719, 0.1562325805425644, 0.9163500070571899, 0.0981803610920906, 0.8379631638526917, 0.6949818730354309, 0.9600897431373596, 0.20490603148937225, 0.46103858947753906, 0.35858556628227234, 0.7964053153991699, 0.9498822093009949, 0.9772293567657471, 0.4225478172302246, 0.20398859679698944, 0.3788359761238098, 0.6949952244758606, 0.9868956804275513, 0.44288069009780884, 0.2310681790113449, 0.34660226106643677, 0.4375298023223877, 0.4375298023223877, 0.11932631582021713, 0.8376575708389282, 0.9453011751174927, 0.9405909776687622, 0.5111325979232788, 0.26901715993881226, 0.21521371603012085, 0.9147376418113708, 0.9506106972694397, 0.8233559727668762, 0.1497010886669159, 0.9771422147750854, 0.370348185300827, 0.6666267514228821, 0.2707686722278595, 0.7220498323440552, 0.9729488492012024, 0.4855484068393707, 0.3588836193084717, 0.16888640820980072, 0.949360191822052, 0.8855721354484558, 0.1012931540608406, 0.8103452324867249, 0.8023455739021301, 0.17578938603401184, 0.808631181716919, 0.931927502155304, 0.32102325558662415, 0.6420465111732483, 0.8024223446846008, 0.5648258328437805, 0.4236193597316742, 0.8373332619667053, 0.7966562509536743, 0.9499181509017944, 0.949809730052948, 0.9841302037239075, 0.8220483064651489, 0.13700805604457855, 0.03914515674114227, 0.9498714208602905, 0.6660405993461609, 0.2705789804458618, 0.08325507491827011, 0.9319778084754944, 0.8023466467857361, 0.8023370504379272, 0.9771090745925903, 0.22134588658809662, 0.8116016387939453, 0.6070332527160645, 0.386293888092041, 0.1743144541978836, 0.6972578167915344, 0.9498238563537598, 0.9645519256591797, 0.9842542409896851, 0.4878535270690918, 0.3414974808692932, 0.19514141976833344, 0.8306286334991455, 0.4533248543739319, 0.4079923629760742, 0.1359974592924118, 0.8023242950439453, 0.9499642252922058, 0.5941765308380127, 0.1371176540851593, 0.2742353081703186, 0.7280787229537964, 0.24269291758537292, 0.048538584262132645, 0.8378711342811584, 0.9499351382255554, 0.9145048260688782, 0.9146971106529236, 0.174736887216568, 0.7863160371780396, 0.8023501038551331, 0.08858209103345871, 0.3100373148918152, 0.6200746297836304, 0.0574847050011158, 0.31616589426994324, 0.6035894155502319, 0.9915771484375, 0.9201956391334534, 0.2588402032852173, 0.6902405619621277, 0.09419836103916168, 0.847785234451294, 0.5413630604743958, 0.15671035647392273, 0.29917430877685547, 0.5504700541496277, 0.22666414082050323, 0.22666414082050323, 0.694976806640625, 0.029477590695023537, 0.35373106598854065, 0.6190294027328491, 0.9499266743659973, 0.9782826900482178, 0.5736018419265747, 0.28680092096328735, 0.14340046048164368, 0.932076632976532, 0.23274452984333038, 0.2909306585788727, 0.46548905968666077, 0.9497298002243042, 0.9145989418029785, 0.8315635323524475, 0.9457719326019287, 0.4022201895713806, 0.15083257853984833, 0.4524977207183838, 0.8779112696647644, 0.15492552518844604, 0.9149614572525024, 0.10528772324323654, 0.31586316227912903, 0.6317263245582581, 0.8023663759231567, 0.37456437945365906, 0.2497095912694931, 0.43699178099632263, 0.8145924210548401, 0.11637034267187119, 0.07758022844791412, 0.9146879315376282, 0.7965713739395142, 0.6125936508178711, 0.2127957046031952, 0.17410556972026825, 0.9601196646690369, 0.08130118995904922, 0.24390357732772827, 0.7317107319831848, 0.5487076044082642, 0.27995285391807556, 0.16797171533107758, 0.3035198152065277, 0.12140792608261108, 0.5463356971740723, 0.9151889085769653, 0.8379033803939819, 0.2897120714187622, 0.5794241428375244, 0.1448560357093811, 0.9321156740188599, 0.9498466849327087, 0.7217276096343994, 0.26244640350341797, 0.032805800437927246, 0.9495064616203308], \"Term\": [\"2013\", \"2016\", \"2019\", \"actually\", \"actually\", \"ad\", \"advocating\", \"aides\", \"aides\", \"aides\", \"amendment\", \"antitrust\", \"arbitrary\", \"background\", \"biden\", \"billion\", \"billion\", \"bills\", \"bills\", \"blame\", \"blocker\", \"border\", \"border\", \"border\", \"brought\", \"brought\", \"brown\", \"buck\", \"build\", \"build\", \"butina\", \"cabinet\", \"cakes\", \"came\", \"came\", \"came\", \"case\", \"case\", \"citizen\", \"colorado\", \"colorado\", \"congress\", \"congress\", \"congress\", \"congressional\", \"congressional\", \"congressional\", \"constitution\", \"controlled\", \"corporate\", \"court\", \"court\", \"criminal\", \"crisis\", \"custom\", \"daily\", \"debated\", \"declare\", \"declare\", \"declare\", \"democrats\", \"democrats\", \"democrats\", \"details\", \"donald\", \"donald\", \"donald\", \"emergency\", \"emergency\", \"explained\", \"feign\", \"freedom\", \"funding\", \"funding\", \"funding\", \"gist\", \"gone\", \"gorsuch\", \"government\", \"government\", \"government\", \"hardball\", \"hiding\", \"house\", \"house\", \"house\", \"immigration\", \"immigration\", \"immigration\", \"includes\", \"january\", \"joe\", \"join\", \"join\", \"join\", \"judge\", \"jury\", \"justice\", \"justice\", \"justices\", \"know\", \"know\", \"laws\", \"laws\", \"legislation\", \"like\", \"like\", \"like\", \"link\", \"listen\", \"looking\", \"looking\", \"mccarthy\", \"mcconnell\", \"mcconnell\", \"meeting\", \"members\", \"members\", \"mexico\", \"money\", \"money\", \"monopoly\", \"moscow\", \"movement\", \"moving\", \"museum\", \"national\", \"national\", \"national\", \"negotiate\", \"news\", \"news\", \"news\", \"offer\", \"oppose\", \"opposed\", \"order\", \"passed\", \"passed\", \"pay\", \"pay\", \"paying\", \"paying\", \"pence\", \"people\", \"phillips\", \"plus\", \"plus\", \"plus\", \"podcast\", \"podcasts\", \"podcasts\", \"podcasts\", \"position\", \"possible\", \"president\", \"president\", \"president\", \"presidents\", \"presidents\", \"presidents\", \"produce\", \"projection\", \"protect\", \"religion\", \"reopen\", \"reopen\", \"reporter\", \"republican\", \"republican\", \"republican\", \"republicans\", \"republicans\", \"republicans\", \"restitution\", \"rights\", \"russia\", \"russia\", \"russian\", \"russian\", \"said\", \"said\", \"said\", \"says\", \"says\", \"says\", \"section\", \"senate\", \"senate\", \"senate\", \"share\", \"shut\", \"shutdown\", \"shutdown\", \"shutdown\", \"sides\", \"sign\", \"sign\", \"sign\", \"signing\", \"sixth\", \"sort\", \"state\", \"support\", \"support\", \"support\", \"supreme\", \"supreme\", \"syria\", \"taken\", \"taken\", \"taken\", \"thing\", \"think\", \"think\", \"think\", \"told\", \"told\", \"told\", \"transgender\", \"traveling\", \"trump\", \"trump\", \"trump\", \"united\", \"vote\", \"vote\", \"vote\", \"wall\", \"wall\", \"wall\", \"want\", \"want\", \"want\", \"warren\", \"ways\", \"week\", \"week\", \"week\", \"weekend\", \"whelan\", \"white\", \"white\", \"white\", \"worth\"]}, \"R\": 30, \"lambda.step\": 0.01, \"plot.opts\": {\"xlab\": \"PC1\", \"ylab\": \"PC2\"}, \"topic.order\": [1, 2, 3]};\n",
       "\n",
       "function LDAvis_load_lib(url, callback){\n",
       "  var s = document.createElement('script');\n",
       "  s.src = url;\n",
       "  s.async = true;\n",
       "  s.onreadystatechange = s.onload = callback;\n",
       "  s.onerror = function(){console.warn(\"failed to load library \" + url);};\n",
       "  document.getElementsByTagName(\"head\")[0].appendChild(s);\n",
       "}\n",
       "\n",
       "if(typeof(LDAvis) !== \"undefined\"){\n",
       "   // already loaded: just create the visualization\n",
       "   !function(LDAvis){\n",
       "       new LDAvis(\"#\" + \"ldavis_el1058647714890166500122260\", ldavis_el1058647714890166500122260_data);\n",
       "   }(LDAvis);\n",
       "}else if(typeof define === \"function\" && define.amd){\n",
       "   // require.js is available: use it to load d3/LDAvis\n",
       "   require.config({paths: {d3: \"https://cdnjs.cloudflare.com/ajax/libs/d3/3.5.5/d3.min\"}});\n",
       "   require([\"d3\"], function(d3){\n",
       "      window.d3 = d3;\n",
       "      LDAvis_load_lib(\"https://cdn.rawgit.com/bmabey/pyLDAvis/files/ldavis.v1.0.0.js\", function(){\n",
       "        new LDAvis(\"#\" + \"ldavis_el1058647714890166500122260\", ldavis_el1058647714890166500122260_data);\n",
       "      });\n",
       "    });\n",
       "}else{\n",
       "    // require.js not available: dynamically load d3 & LDAvis\n",
       "    LDAvis_load_lib(\"https://cdnjs.cloudflare.com/ajax/libs/d3/3.5.5/d3.min.js\", function(){\n",
       "         LDAvis_load_lib(\"https://cdn.rawgit.com/bmabey/pyLDAvis/files/ldavis.v1.0.0.js\", function(){\n",
       "                 new LDAvis(\"#\" + \"ldavis_el1058647714890166500122260\", ldavis_el1058647714890166500122260_data);\n",
       "            })\n",
       "         });\n",
       "}\n",
       "</script>"
      ],
      "text/plain": [
       "<IPython.core.display.HTML object>"
      ]
     },
     "execution_count": 33,
     "metadata": {},
     "output_type": "execute_result"
    }
   ],
   "source": [
    "\n",
    "import pyLDAvis.gensim\n",
    "lda_display = pyLDAvis.gensim.prepare(lda, corpus, dictionary, sort_topics=False)\n",
    "pyLDAvis.display(lda_display)"
   ]
  },
  {
   "cell_type": "code",
   "execution_count": 34,
   "metadata": {},
   "outputs": [],
   "source": [
    "doc_list = [community_data,le_monde_data,fiveguys_data,shakeshack_data]\n",
    "all_text = community_data.raw() + le_monde_data.raw() + fiveguys_data.raw() + shakeshack_data.raw()\n",
    "\n",
    "documents = [doc.raw() for doc in doc_list]\n",
    "texts = [[word for word in document.lower().split()\n",
    "        if word not in STOPWORDS and word.isalnum()]\n",
    "        for document in documents]\n",
    "dictionary = corpora.Dictionary(texts)\n",
    "corpus = [dictionary.doc2bow(text) for text in texts]\n"
   ]
  },
  {
   "cell_type": "code",
   "execution_count": 35,
   "metadata": {},
   "outputs": [],
   "source": [
    "from gensim.similarities.docsim import Similarity\n",
    "from gensim import corpora, models, similarities\n",
    "lsi = models.LsiModel(corpus, id2word=dictionary, num_topics=2)\n",
    "doc = \"\"\"\n",
    "Many, many years ago, I used to frequent this place for their amazing french toast. \n",
    "It's been a while since then and I've been hesitant to review a place I haven't been to in 7-8 years... \n",
    "but I passed by French Roast and, feeling nostalgic, decided to go back.\n",
    "\n",
    "It was a great decision.\n",
    "\n",
    "Their Bloody Mary is fantastic and includes bacon (which was perfectly cooked!!), olives, \n",
    "cucumber, and celery. The Irish coffee is also excellent, even without the cream which is what I ordered.\n",
    "\n",
    "Great food, great drinks, a great ambiance that is casual yet familiar like a tiny little French cafe. \n",
    "I highly recommend coming here, and will be back whenever I'm in the area next.\n",
    "\n",
    "Juan, the bartender, is great!! One of the best in any brunch spot in the city, by far.\n",
    "\"\"\"\n",
    "vec_bow = dictionary.doc2bow(doc.lower().split())\n",
    "vec_lsi = lsi[vec_bow]\n",
    "index = similarities.MatrixSimilarity(lsi[corpus])\n",
    "sims = index[vec_lsi]\n",
    "sims = sorted(enumerate(sims), key=lambda item: -item[1])\n"
   ]
  },
  {
   "cell_type": "code",
   "execution_count": 36,
   "metadata": {},
   "outputs": [
    {
     "data": {
      "text/plain": [
       "[(1, 0.99406147), (0, 0.98726636), (2, 0.65141773), (3, 0.43748194)]"
      ]
     },
     "execution_count": 36,
     "metadata": {},
     "output_type": "execute_result"
    }
   ],
   "source": [
    "sims"
   ]
  },
  {
   "cell_type": "code",
   "execution_count": 37,
   "metadata": {},
   "outputs": [
    {
     "data": {
      "text/plain": [
       "[(2, 0.9371457), (1, 0.92266124), (3, 0.8178723), (0, 0.7871257)]"
      ]
     },
     "execution_count": 37,
     "metadata": {},
     "output_type": "execute_result"
    }
   ],
   "source": [
    "doc=\"\"\"\n",
    "Came to have lunch & also watch the World Cup match. I've been here many times before and not much has changed. \n",
    "\n",
    "You can get half off apps and bogo drinks when you sign up for their brew club. I tried their IPA \n",
    "(was not a fan).  We also ordered the backyarder and the hot mess burgers with a \n",
    "side of disco fries to share. Both were delicious and cooked perfectly. The fries were also really good - \n",
    "the gravy and the cheese mix worked perfectly. \n",
    "\n",
    "Service was not the best but it could have been because of how packed the bar was for the game. Still a \n",
    "solid option in the neighborhood. Should mention that the fried Oreos are out of this world!\n",
    "\"\"\"\n",
    "vec_bow = dictionary.doc2bow(doc.lower().split())\n",
    "vec_lsi = lsi[vec_bow]\n",
    "index = similarities.MatrixSimilarity(lsi[corpus])\n",
    "sims = index[vec_lsi]\n",
    "sims = sorted(enumerate(sims), key=lambda item: -item[1])\n",
    "sims"
   ]
  },
  {
   "cell_type": "code",
   "execution_count": null,
   "metadata": {
    "collapsed": true
   },
   "outputs": [],
   "source": []
  }
 ],
 "metadata": {
  "anaconda-cloud": {},
  "kernelspec": {
   "display_name": "py_36_env",
   "language": "python",
   "name": "py_36_env"
  },
  "language_info": {
   "codemirror_mode": {
    "name": "ipython",
    "version": 3
   },
   "file_extension": ".py",
   "mimetype": "text/x-python",
   "name": "python",
   "nbconvert_exporter": "python",
   "pygments_lexer": "ipython3",
   "version": "3.6.5"
  }
 },
 "nbformat": 4,
 "nbformat_minor": 1
}
